{
 "cells": [
  {
   "cell_type": "code",
   "execution_count": 1,
   "id": "a29c7fb9-53e1-45de-be86-fd9831f4beb8",
   "metadata": {
    "tags": []
   },
   "outputs": [],
   "source": [
    "import numpy as np\n",
    "from astropy.table import Table"
   ]
  },
  {
   "cell_type": "code",
   "execution_count": 2,
   "id": "f610624d-7efb-4aa8-9e1a-c5c93e3bb9e5",
   "metadata": {
    "tags": []
   },
   "outputs": [],
   "source": [
    "raw = Table.read('./data/cos_NFPMM_newspec.fits', format='fits')\n"
   ]
  },
  {
   "cell_type": "code",
   "execution_count": 3,
   "id": "323c6589-2535-42eb-a7a1-84b49d026ac6",
   "metadata": {
    "tags": []
   },
   "outputs": [],
   "source": [
    "bflags = ['b0.5', 'b1', 'b2', 'b3']"
   ]
  },
  {
   "cell_type": "code",
   "execution_count": 4,
   "id": "8ac50cd3-eac2-47f7-9bae-8d98c2047c05",
   "metadata": {
    "tags": []
   },
   "outputs": [],
   "source": [
    "bflag_weak = bflags[2]\n",
    "bflag_strong = bflags[1]"
   ]
  },
  {
   "cell_type": "code",
   "execution_count": 17,
   "id": "86f82e76-2e3a-48e7-90be-c94d6f248ed2",
   "metadata": {
    "tags": []
   },
   "outputs": [],
   "source": [
    "bands = 'uBVrizYJH'\n",
    "bands = list(bands)\n",
    "flux_flag = 'FLUX_RADIUS'"
   ]
  },
  {
   "cell_type": "code",
   "execution_count": 18,
   "id": "c91b86f3-c03a-4e97-9638-a0491034e4cc",
   "metadata": {
    "tags": []
   },
   "outputs": [],
   "source": [
    "bands[4] = 'ip'\n",
    "bands[5] = 'zpp'"
   ]
  },
  {
   "cell_type": "code",
   "execution_count": 19,
   "id": "bd0d3cde-036c-49e6-9700-62e2d7bec946",
   "metadata": {
    "tags": []
   },
   "outputs": [],
   "source": [
    "raw['RADIUSERR'] = 0.2 * np.std(raw['FLUX_RADIUS'])\n",
    "raw = raw[ (raw['FLAG_HST']==1) & (raw['pot_SOM']==1) ]        ## pot_SOM: type=0, ip_MAG_AUTO<24.5, ZPDF>0\n",
    "\n",
    "mask_pure =  (raw['ID']>0) & (raw['b2']==0)                    ## primary match and no additional match\n",
    "pure = raw[mask_pure]\n",
    "\n",
    "mask_bl = (raw['ID']>0) & (raw[bflag_weak]>0)                  ## primary match and at least one additional\n",
    "weak_unrec = raw[mask_bl]\n",
    "\n",
    "mask_bl = (raw['ID']>0) & (raw[bflag_strong]>0)\n",
    "strong_unrec = raw[mask_bl]"
   ]
  },
  {
   "cell_type": "code",
   "execution_count": 20,
   "id": "9ba4395e-133e-41e5-87a6-4fe167b95473",
   "metadata": {
    "tags": []
   },
   "outputs": [],
   "source": [
    "mask_bl = (raw['ID']>0) & (raw[bflag_weak]>0) & (raw[bflag_strong]==0)              ## primary match and at least one additional\n",
    "true_weak_unrec = raw[mask_bl]"
   ]
  },
  {
   "cell_type": "code",
   "execution_count": 21,
   "id": "956b0003-101d-451e-a8b6-70472dce213e",
   "metadata": {
    "tags": []
   },
   "outputs": [],
   "source": [
    "for k in weak_unrec['NUMBER']:\n",
    "    if k in true_weak_unrec['NUMBER'] or k in strong_unrec['NUMBER']:\n",
    "        continue\n",
    "    else:\n",
    "        print(f\"ISSUE WITH {k}\")"
   ]
  },
  {
   "cell_type": "code",
   "execution_count": 22,
   "id": "dcde2087-7350-49be-a3c0-2a2ded99111e",
   "metadata": {
    "tags": []
   },
   "outputs": [],
   "source": [
    "for k in true_weak_unrec['NUMBER']:\n",
    "    if k in weak_unrec['NUMBER']:\n",
    "        continue\n",
    "    else:\n",
    "        print(f\"ISSUE WITH {k}\")"
   ]
  },
  {
   "cell_type": "code",
   "execution_count": 23,
   "id": "af1b316f-698e-4bd8-9343-139a737c63ad",
   "metadata": {
    "tags": []
   },
   "outputs": [],
   "source": [
    "for k in strong_unrec['NUMBER']:\n",
    "    if k in true_weak_unrec['NUMBER']:\n",
    "        print(f\"ISSUE WITH {k}\")        "
   ]
  },
  {
   "cell_type": "code",
   "execution_count": 24,
   "id": "7338a6a6-6026-4aef-b158-ead9f1fa5392",
   "metadata": {
    "tags": []
   },
   "outputs": [],
   "source": [
    "def get_table(sample, bscore):\n",
    "    new_table = np.zeros((len(sample),len(bands)*2 + 2))\n",
    "    \n",
    "    for i,b in enumerate(bands):\n",
    "        new_table[:,2*i] = sample[b]\n",
    "        new_table[:,2*i+1] = sample[b+'ERR']\n",
    "    new_table[:,-2] = sample[flux_flag]\n",
    "    new_table[:,-1] = bscore\n",
    "    \n",
    "    return new_table"
   ]
  },
  {
   "cell_type": "code",
   "execution_count": 25,
   "id": "6081a425-9d54-4bb0-a779-51d1bf534a86",
   "metadata": {
    "tags": []
   },
   "outputs": [],
   "source": [
    "pure_table = get_table(pure, 0)\n",
    "weak_table = get_table(true_weak_unrec, 1)\n",
    "strong_table = get_table(strong_unrec, 2)"
   ]
  },
  {
   "cell_type": "code",
   "execution_count": 26,
   "id": "7f7db990-a711-4976-a3fa-72682a613006",
   "metadata": {
    "tags": []
   },
   "outputs": [
    {
     "data": {
      "text/plain": [
       "array([2.36389084e+01, 4.99182157e-02, 2.26036606e+01, 2.07192078e-02,\n",
       "       2.10741158e+01, 1.32745933e-02, 2.03422451e+01, 7.61330267e-03,\n",
       "       1.97589417e+01, 4.60653659e-03, 1.92758007e+01, 1.48872042e-03,\n",
       "       1.91422443e+01, 1.64770265e-03, 1.88291759e+01, 1.80094677e-03,\n",
       "       1.85646744e+01, 2.22367607e-03, 6.47549248e+00, 0.00000000e+00])"
      ]
     },
     "execution_count": 26,
     "metadata": {},
     "output_type": "execute_result"
    }
   ],
   "source": [
    "pure_table[0]"
   ]
  },
  {
   "cell_type": "code",
   "execution_count": 27,
   "id": "57838a12-b5c4-4b92-96c5-84a3977b14e6",
   "metadata": {
    "tags": []
   },
   "outputs": [],
   "source": [
    "csv_header =  ['u', 'uERR', 'B', 'BERR', 'V', 'VERR', 'r', 'rERR',\n",
    "               'ip', 'ipERR', 'zpp', 'zppERR', 'Y', 'YERR', 'J', 'JERR',\n",
    "               'H', 'HERR', 'FLUX_RADIUS', 'blend']\n",
    "csv_headstr = ','.join(csv_header)"
   ]
  },
  {
   "cell_type": "code",
   "execution_count": 28,
   "id": "abe21a1e-42a9-46b9-bde9-ea24e11c157e",
   "metadata": {
    "tags": []
   },
   "outputs": [],
   "source": [
    "np.savetxt('./data/new_run/pure_table_err.csv', pure_table, delimiter=',', header=csv_headstr, comments='')\n",
    "np.savetxt('./data/new_run/weak_table_err.csv', weak_table, delimiter=',', header=csv_headstr, comments='')\n",
    "np.savetxt('./data/new_run/strong_table_err.csv', strong_table, delimiter=',', header=csv_headstr, comments='')"
   ]
  }
 ],
 "metadata": {
  "kernelspec": {
   "display_name": "NERSC Python",
   "language": "python",
   "name": "python3"
  },
  "language_info": {
   "codemirror_mode": {
    "name": "ipython",
    "version": 3
   },
   "file_extension": ".py",
   "mimetype": "text/x-python",
   "name": "python",
   "nbconvert_exporter": "python",
   "pygments_lexer": "ipython3",
   "version": "3.9.7"
  }
 },
 "nbformat": 4,
 "nbformat_minor": 5
}
